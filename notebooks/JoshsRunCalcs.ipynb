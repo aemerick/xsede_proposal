{
 "cells": [
  {
   "cell_type": "markdown",
   "metadata": {},
   "source": [
    "# Notebook for XSEDE proposal"
   ]
  },
  {
   "cell_type": "markdown",
   "metadata": {},
   "source": [
    "### Resource usage."
   ]
  },
  {
   "cell_type": "code",
   "execution_count": 48,
   "metadata": {
    "collapsed": false
   },
   "outputs": [],
   "source": [
    "from yt import *\n",
    "import numpy as np\n",
    "from __future__ import print_function # stupid 2.7 print was goofing up."
   ]
  },
  {
   "cell_type": "markdown",
   "metadata": {},
   "source": [
    "Lets define a few global things to clean up the notebook a bit..."
   ]
  },
  {
   "cell_type": "code",
   "execution_count": 49,
   "metadata": {
    "collapsed": false
   },
   "outputs": [
    {
     "name": "stdout",
     "output_type": "stream",
     "text": [
      "For a zoomed region 50.0 pc in size it takes 9 refinements to hit target refinement 1255.69661458 AU\n"
     ]
    }
   ],
   "source": [
    "pc = 3.086e18\n",
    "AU = 1.5e13\n",
    "hr = 60*60\n",
    "yr = hr*24.*365.25\n",
    "Myr = 3.15e13\n",
    "\n",
    "# Radiation on or off for this run?\n",
    "rad_on = True\n",
    "# Winds on or off for this run?\n",
    "winds_on = True\n",
    "\n",
    "# Size of the zoomed in region\n",
    "inner_box = 50*pc\n",
    "\n",
    "# Target refinement\n",
    "dx = 1500*AU\n",
    "\n",
    "# Number of cells in a block in 1-d\n",
    "nx = 16\n",
    "# Target number of blocks per proc. ~200 gives good performance.\n",
    "blksPerProc = 200.\n",
    "\n",
    "# Number of refinements to go from inner_box to dx\n",
    "num_zoom_lvls = int(np.ceil(np.log10(50*pc/(nx*dx))/np.log10(2)))\n",
    "\n",
    "# Now find the actual dx for this many levels of refinement\n",
    "\n",
    "dx = inner_box/(nx*2**(num_zoom_lvls))\n",
    "\n",
    "print(\"For a zoomed region\", inner_box/pc, \"pc in size it takes\", num_zoom_lvls,\n",
    "       \"refinements to hit target refinement\", dx/AU, \"AU\")"
   ]
  },
  {
   "cell_type": "markdown",
   "metadata": {},
   "source": [
    "Number of cells in the simulation.\n",
    "Assume the zoom in leaves us 384 blocks in the inner zoomed region for ~50 pc^3 area,\n",
    "which is what we get for the Bullhead cloud.\n",
    "\n",
    "After that the volume filling fraction is about 1/8, so the number of blocks generally doubles per level of refinement. Here we use 2.5 to be safe (which was what Olson put in the original NSF proposal).  [***factor = 2.0 in the notebook, though***]\n",
    "\n",
    "Also assume blocks have 16^3 cells in each."
   ]
  },
  {
   "cell_type": "code",
   "execution_count": 50,
   "metadata": {
    "collapsed": false
   },
   "outputs": [
    {
     "name": "stdout",
     "output_type": "stream",
     "text": [
      "1\n",
      "768.0\n",
      "2\n",
      "1536.0\n",
      "3\n",
      "3072.0\n",
      "4\n",
      "6144.0\n",
      "5\n",
      "12288.0\n",
      "6\n",
      "24576.0\n",
      "7\n",
      "49152.0\n",
      "101420.0 blocks total.\n",
      "507.1\n",
      "507.1\n",
      "415416320.0 cells in the simulation after fragmentation.\n"
     ]
    }
   ],
   "source": [
    "factor = 2.0\n",
    "\n",
    "# Number of blocks for 50 pc zoom in region, based on the bull head cloud.\n",
    "# These are all the background blocks that *don't* include the zoomed region.\n",
    "numBlksOuter=3500\n",
    "\n",
    "# Now the zoomed region at 5 levels of refinement and over a 50 pc region square\n",
    "# should cover about 4^3=64 blocks. Then from there each level should just more than double the\n",
    "# last level. But for some reason the first level in (lef=6) has 364 blocks, not\n",
    "# 64*2.5=160 blocks. After that though it follows the 2.5 rule pretty well.\n",
    "\n",
    "numBlksZoom1=384\n",
    "\n",
    "numBlksLevel = numBlksZoom1\n",
    "\n",
    "numBlksZoomTotal = numBlksZoom1\n",
    "\n",
    "# Number of blocks if we assume a cloud that is an order magnitude larger has twice the\n",
    "# radius and therefore 2^3 times more blocks. This is likely conservative, since the\n",
    "# cloud is probably more dense and not as large.\n",
    "numBlksBig=numBlksZoom1*(2^3)\n",
    "\n",
    "\n",
    "# Each level has factor*numBlksPreviousLevel number of blocks.\n",
    "# Here we sum up those blocks to get the total. Note we start\n",
    "# with only those blocks in the region we zoomed in on!\n",
    "# Previously we mistakingly calculated it with all the blocks\n",
    "# at the previous level.\n",
    "\n",
    "# Note here we started at lzoom + 1 so no need to add 1 anymore.\n",
    "\n",
    "for i in range(1, num_zoom_lvls-1):\n",
    "    \n",
    "    print(i)\n",
    "    \n",
    "    numBlksLevel = factor*numBlksLevel\n",
    "     \n",
    "    numBlksZoomTotal = numBlksZoomTotal + numBlksLevel\n",
    "    \n",
    "    print(numBlksLevel)\n",
    "    \n",
    "numBlksTotal = numBlksZoomTotal + numBlksOuter\n",
    "    \n",
    "print(numBlksTotal, \"blocks total.\")\n",
    "\n",
    "print(numBlksTotal/blksPerProc)\n",
    "\n",
    "numCells =  numBlksTotal*(16**3)\n",
    "\n",
    "print(numBlksTotal/blksPerProc)\n",
    "\n",
    "print(numCells, \"cells in the simulation after fragmentation.\")"
   ]
  },
  {
   "cell_type": "markdown",
   "metadata": {},
   "source": [
    "Here we calculate the average timestep assuming that the highest temperature is due to the radaition feedback. We assume it takes 2 Myr for the gas to collapse to the Jeans criterion at the highest level of refinement and star formation to start."
   ]
  },
  {
   "cell_type": "code",
   "execution_count": 51,
   "metadata": {
    "collapsed": false
   },
   "outputs": [
    {
     "name": "stdout",
     "output_type": "stream",
     "text": [
      "7.56862496372 148.910993777\n",
      "1.88354492188e+16 is cell width in cm\n",
      "788.596834592 years for low temp timesteps\n",
      "40.0816188061 years for high temp timesteps\n",
      "201759.954664 steps in the simulation\n"
     ]
    }
   ],
   "source": [
    "# Temp for no winds (just radiation)\n",
    "lowT = 1e4 * units.K   #corrected from 10e4 = 1e5  M-MML 22:15 14 Oct 16\n",
    "# Temp for with winds.\n",
    "highT = 1e6 * units.K  #               10e6 = 1e7\n",
    "\n",
    "# Atomic weight for ionized hydrogren and H2.\n",
    "mu_i = 0.62\n",
    "mu_n = 2.4\n",
    "\n",
    "# Sound speed.\n",
    "csLow = np.sqrt(5./3. *units.boltzmann_constant_cgs.v*lowT.v /(mu_n* units.mass_hydrogen_cgs.v))\n",
    "\n",
    "if winds_on:\n",
    "    csHigh = np.sqrt(5./3. *units.boltzmann_constant_cgs.v*highT.v /(mu_i* units.mass_hydrogen_cgs.v))\n",
    "else:\n",
    "    csHigh=csLow\n",
    "    \n",
    "print (csLow/1.0e5, csHigh/1.0e5)  #km/s\n",
    "\n",
    "# 500 AU cell size at highest refinement.\n",
    "#dx = 500 * units.AU.in_cgs().v\n",
    "\n",
    "print(dx, \"is cell width in cm\")\n",
    "\n",
    "# Timestep.\n",
    "lowTS = dx/csLow\n",
    "highTS = dx/csHigh\n",
    "\n",
    "print(lowTS/(60*60*24*365.25), \"years for low temp timesteps\")\n",
    "print(highTS/(60*60*24*365.25), \"years for high temp timesteps\")\n",
    "\n",
    "\n",
    "# Number of steps for a 10 Myr simulation.\n",
    "numSteps = 2*Myr/lowTS + 8*Myr/highTS # Radiation is on.\n",
    "\n",
    "print(numSteps, \"steps in the simulation\")\n",
    "\n"
   ]
  },
  {
   "cell_type": "markdown",
   "metadata": {},
   "source": [
    "Now we calculate the amount of computer time needed to do the simulation. Here we assume:\n",
    "\n",
    "1) An average Flash MHD update takes ~150 microseconds (Olson's timing). \n",
    "\n",
    "2) An average radiation takes about the same amount of time as an MHD update (Wise & Abel 2011, Stone @ PiTP 2016)"
   ]
  },
  {
   "cell_type": "code",
   "execution_count": 52,
   "metadata": {
    "collapsed": false
   },
   "outputs": [
    {
     "name": "stdout",
     "output_type": "stream",
     "text": [
      "6.98e+06 hrs is total CPU time\n"
     ]
    }
   ],
   "source": [
    "if rad_on:\n",
    "    timePerStep = 300e-6 # If Radiation is on\n",
    "else:\n",
    "    timePerStep = 150e-6 # If Radiation is off\n",
    "\n",
    "\n",
    "print(\"{:.2e}\".format(numSteps*numCells*timePerStep/hr), \"hrs is total CPU time\")"
   ]
  },
  {
   "cell_type": "markdown",
   "metadata": {
    "collapsed": true
   },
   "source": [
    "### Storage requirements"
   ]
  },
  {
   "cell_type": "markdown",
   "metadata": {},
   "source": [
    "Assume that we make a plot file every 10,000 years"
   ]
  },
  {
   "cell_type": "code",
   "execution_count": 53,
   "metadata": {
    "collapsed": false
   },
   "outputs": [
    {
     "name": "stdout",
     "output_type": "stream",
     "text": [
      "74283.1206322\n"
     ]
    }
   ],
   "source": [
    "pltFreq = 1e5\n",
    "runTime = 1e7\n",
    "numPlots = runTime/pltFreq\n",
    "\n",
    "numHyVars = 30\n",
    "numCells = numCells\n",
    "numPartVars = 15\n",
    "numParts = 1e4\n",
    "\n",
    "\n",
    "\n",
    "sizeOfVar = 64\n",
    "sizeOfGB = 2.**30\n",
    "\n",
    "tempStorage = numPlots*(numHyVars*numCells+numPartVars*numParts)*sizeOfVar/sizeOfGB\n",
    "\n",
    "print(tempStorage)"
   ]
  },
  {
   "cell_type": "markdown",
   "metadata": {
    "collapsed": true
   },
   "source": [
    "Lets turn it all into a function that can return the timing."
   ]
  },
  {
   "cell_type": "code",
   "execution_count": 96,
   "metadata": {
    "collapsed": true
   },
   "outputs": [],
   "source": [
    "def code_run(inner_box, dx, rad_on=True, winds_on=True):\n",
    "\n",
    "    print(\"Checking run time with rad_on=\", rad_on, \"and winds_on=\", winds_on)\n",
    "    # Number of refinements to go from inner_box to dx\n",
    "    num_zoom_lvls = int(np.ceil(np.log10(50*pc/(nx*dx))/np.log10(2)))\n",
    "\n",
    "    # Now find the actual dx for this many levels of refinement\n",
    "\n",
    "    dx = inner_box/(nx*2**(num_zoom_lvls))\n",
    "\n",
    "    print(\"For a zoomed region\", inner_box/pc, \"pc in size it takes\", num_zoom_lvls,\n",
    "           \"refinements to hit target refinement\", dx/AU, \"AU\")\n",
    "\n",
    "    factor = 2.0\n",
    "\n",
    "    # Number of blocks for 50 pc zoom in region, based on the bull head cloud.\n",
    "    # These are all the background blocks that *don't* include the zoomed region.\n",
    "    numBlksOuter=3500\n",
    "\n",
    "    # Now the zoomed region at 5 levels of refinement and over a 50 pc region square\n",
    "    # should cover about 4^3=64 blocks. Then from there each level should just more than double the\n",
    "    # last level. But for some reason the first level in (lef=6) has 364 blocks, not\n",
    "    # 64*2.5=160 blocks. After that though it follows the 2.5 rule pretty well.\n",
    "\n",
    "    numBlksZoom1=384\n",
    "\n",
    "    numBlksLevel = numBlksZoom1\n",
    "\n",
    "    numBlksZoomTotal = numBlksZoom1\n",
    "\n",
    "    # Number of blocks if we assume a cloud that is an order magnitude larger has twice the\n",
    "    # radius and therefore 2^3 times more blocks. This is likely conservative, since the\n",
    "    # cloud is probably more dense and not as large.\n",
    "    numBlksBig=numBlksZoom1*(2^3)\n",
    "\n",
    "\n",
    "    # Each level has factor*numBlksPreviousLevel number of blocks.\n",
    "    # Here we sum up those blocks to get the total. Note we start\n",
    "    # with only those blocks in the region we zoomed in on!\n",
    "    # Previously we mistakingly calculated it with all the blocks\n",
    "    # at the previous level.\n",
    "\n",
    "    # Note here we started at lzoom + 1 so no need to add 1 anymore.\n",
    "\n",
    "    for i in range(1, num_zoom_lvls-1):\n",
    "\n",
    "        #print(i)\n",
    "\n",
    "        numBlksLevel = factor*numBlksLevel\n",
    "\n",
    "        numBlksZoomTotal = numBlksZoomTotal + numBlksLevel\n",
    "\n",
    "        #print(numBlksLevel)\n",
    "\n",
    "    numBlksTotal = numBlksZoomTotal + numBlksOuter\n",
    "\n",
    "    print(numBlksTotal, \"blocks total.\")\n",
    "\n",
    "    numCells =  numBlksTotal*(16**3)\n",
    "\n",
    "    #print(numBlksTotal/blksPerProc, \"number of processors needed.\")\n",
    "\n",
    "    print(numCells, \"cells in the simulation after fragmentation.\")\n",
    "    \n",
    "    # Temp for no winds (just radiation)\n",
    "    lowT = 1e4 * units.K   #corrected from 10e4 = 1e5  M-MML 22:15 14 Oct 16\n",
    "    # Temp for with winds.\n",
    "    highT = 1e6 * units.K  #               10e6 = 1e7\n",
    "\n",
    "    # Atomic weight for ionized hydrogren and H2.\n",
    "    mu_i = 0.62\n",
    "    mu_n = 2.4\n",
    "\n",
    "    # Sound speed.\n",
    "    csLow = np.sqrt(5./3. *units.boltzmann_constant_cgs.v*lowT.v /(mu_n* units.mass_hydrogen_cgs.v))\n",
    "\n",
    "    if winds_on:\n",
    "        csHigh = np.sqrt(5./3. *units.boltzmann_constant_cgs.v*highT.v /(mu_i* units.mass_hydrogen_cgs.v))\n",
    "    else:\n",
    "        csHigh=csLow\n",
    "\n",
    "    print (csLow/1.0e5, \"km/s = csLow\", csHigh/1.0e5, \"km/s =csHigh\")  #km/s\n",
    "\n",
    "    # 500 AU cell size at highest refinement.\n",
    "    #dx = 500 * units.AU.in_cgs().v\n",
    "\n",
    "    print(dx/AU, \"is cell width in AU\")\n",
    "\n",
    "    # Timestep.\n",
    "    lowTS = dx/csLow\n",
    "    highTS = dx/csHigh\n",
    "\n",
    "    print(lowTS/(60*60*24*365.25), \"years for low temp timesteps\")\n",
    "    print(highTS/(60*60*24*365.25), \"years for high temp timesteps\")\n",
    "    \n",
    "    print (\"Courant # for highTS=\", csHigh*highTS/dx)\n",
    "\n",
    "\n",
    "    # Number of steps for a 10 Myr simulation.\n",
    "    numSteps = 2*Myr/lowTS + 8*Myr/highTS # Radiation is on.\n",
    "\n",
    "    print(numSteps, \"steps in the simulation\")\n",
    "\n",
    "    if rad_on:\n",
    "        timePerStep = 300e-6 # If Radiation is on\n",
    "    else:\n",
    "        timePerStep = 150e-6 # If Radiation is off\n",
    "\n",
    "    totalCPUtime = numSteps*numCells*timePerStep/hr\n",
    "    print(\"{:.2e}\".format(totalCPUtime), \"hrs is total CPU time\")\n",
    "    \n",
    "    cs2Cold = (5./3. * 1.3e-16 * 10 / (2.4*1.67e-24))\n",
    "    \n",
    "    density_at_12dx = (np.pi*cs2Cold / \n",
    "                       (6.67e-8*(12.0*dx)**2.0)\n",
    "                       /1.67e-24)\n",
    "    \n",
    "    print(\"Number density at MHD Jeans Length (12 dx) =\",\n",
    "          \"{:.2e}\".format(density_at_12dx), \"cm^-3\")\n",
    "    \n",
    "    return totalCPUtime, dx"
   ]
  },
  {
   "cell_type": "code",
   "execution_count": 97,
   "metadata": {
    "collapsed": false
   },
   "outputs": [
    {
     "name": "stdout",
     "output_type": "stream",
     "text": [
      "Checking run time with rad_on= True and winds_on= True\n",
      "For a zoomed region 50.0 pc in size it takes 9 refinements to hit target refinement 1255.69661458 AU\n",
      "101420.0 blocks total.\n",
      "415416320.0 cells in the simulation after fragmentation.\n",
      "7.56862496372 km/s = csLow 148.910993777 km/s =csHigh\n",
      "1255.69661458 is cell width in AU\n",
      "788.596834592 years for low temp timesteps\n",
      "40.0816188061 years for high temp timesteps\n",
      "Courant # for highTS= 1.0\n",
      "201759.954664 steps in the simulation\n",
      "6.98e+06 hrs is total CPU time\n",
      "Number density at MHD Jeans Length (12 dx) = 2.98e+05 cm^-3\n"
     ]
    }
   ],
   "source": [
    "both_on=code_run(inner_box, dx)[0]"
   ]
  },
  {
   "cell_type": "code",
   "execution_count": 98,
   "metadata": {
    "collapsed": false
   },
   "outputs": [
    {
     "name": "stdout",
     "output_type": "stream",
     "text": [
      "Checking run time with rad_on= False and winds_on= True\n",
      "For a zoomed region 50.0 pc in size it takes 9 refinements to hit target refinement 1255.69661458 AU\n",
      "101420.0 blocks total.\n",
      "415416320.0 cells in the simulation after fragmentation.\n",
      "7.56862496372 km/s = csLow 148.910993777 km/s =csHigh\n",
      "1255.69661458 is cell width in AU\n",
      "788.596834592 years for low temp timesteps\n",
      "40.0816188061 years for high temp timesteps\n",
      "Courant # for highTS= 1.0\n",
      "201759.954664 steps in the simulation\n",
      "3.49e+06 hrs is total CPU time\n",
      "Number density at MHD Jeans Length (12 dx) = 2.98e+05 cm^-3\n"
     ]
    }
   ],
   "source": [
    "winds_only=code_run(inner_box, dx, rad_on=False, winds_on=True)[0]"
   ]
  },
  {
   "cell_type": "code",
   "execution_count": 99,
   "metadata": {
    "collapsed": false
   },
   "outputs": [
    {
     "name": "stdout",
     "output_type": "stream",
     "text": [
      "Checking run time with rad_on= True and winds_on= False\n",
      "For a zoomed region 50.0 pc in size it takes 9 refinements to hit target refinement 1255.69661458 AU\n",
      "101420.0 blocks total.\n",
      "415416320.0 cells in the simulation after fragmentation.\n",
      "7.56862496372 km/s = csLow 7.56862496372 km/s =csHigh\n",
      "1255.69661458 is cell width in AU\n",
      "788.596834592 years for low temp timesteps\n",
      "788.596834592 years for high temp timesteps\n",
      "Courant # for highTS= 1.0\n",
      "12657.6055388 steps in the simulation\n",
      "4.38e+05 hrs is total CPU time\n",
      "Number density at MHD Jeans Length (12 dx) = 2.98e+05 cm^-3\n"
     ]
    }
   ],
   "source": [
    "rad_only=code_run(inner_box, dx, winds_on=False)[0]"
   ]
  },
  {
   "cell_type": "code",
   "execution_count": 100,
   "metadata": {
    "collapsed": false
   },
   "outputs": [
    {
     "name": "stdout",
     "output_type": "stream",
     "text": [
      "Checking run time with rad_on= False and winds_on= False\n",
      "For a zoomed region 50.0 pc in size it takes 9 refinements to hit target refinement 1255.69661458 AU\n",
      "101420.0 blocks total.\n",
      "415416320.0 cells in the simulation after fragmentation.\n",
      "7.56862496372 km/s = csLow 7.56862496372 km/s =csHigh\n",
      "1255.69661458 is cell width in AU\n",
      "788.596834592 years for low temp timesteps\n",
      "788.596834592 years for high temp timesteps\n",
      "Courant # for highTS= 1.0\n",
      "12657.6055388 steps in the simulation\n",
      "2.19e+05 hrs is total CPU time\n",
      "Number density at MHD Jeans Length (12 dx) = 2.98e+05 cm^-3\n"
     ]
    }
   ],
   "source": [
    "both_off=code_run(inner_box, dx, rad_on=False, winds_on=False)[0]"
   ]
  },
  {
   "cell_type": "code",
   "execution_count": 101,
   "metadata": {
    "collapsed": false
   },
   "outputs": [
    {
     "name": "stdout",
     "output_type": "stream",
     "text": [
      "Total time in CPU hours = 1.11e+07\n"
     ]
    }
   ],
   "source": [
    "total_time=both_on+both_off+winds_only+rad_only\n",
    "\n",
    "print(\"Total time in CPU hours =\", \"{:.2e}\".format(total_time))"
   ]
  },
  {
   "cell_type": "code",
   "execution_count": null,
   "metadata": {
    "collapsed": true
   },
   "outputs": [],
   "source": []
  }
 ],
 "metadata": {
  "anaconda-cloud": {},
  "kernelspec": {
   "display_name": "Python 2",
   "language": "python",
   "name": "python2"
  },
  "language_info": {
   "codemirror_mode": {
    "name": "ipython",
    "version": 2
   },
   "file_extension": ".py",
   "mimetype": "text/x-python",
   "name": "python",
   "nbconvert_exporter": "python",
   "pygments_lexer": "ipython2",
   "version": "2.7.6"
  }
 },
 "nbformat": 4,
 "nbformat_minor": 1
}
